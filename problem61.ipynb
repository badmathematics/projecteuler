{
 "cells": [
  {
   "cell_type": "code",
   "execution_count": 2,
   "metadata": {},
   "outputs": [],
   "source": [
    "triangle = []\n",
    "square = []\n",
    "pentagonal = []\n",
    "hexagonal = []\n",
    "heptagonal = []\n",
    "octagonal = []\n",
    "for n in range(45, 140+1):\n",
    "    i = n*(n + 1)/2\n",
    "    triangle.append(i)\n",
    "\n",
    "for n in range(32, 99+1):\n",
    "    i = n**2\n",
    "    square.append(i)\n",
    "\n",
    "for n in range(26, 81+1):\n",
    "    i = n*(3*n - 1)/2\n",
    "    pentagonal.append(i)\n",
    "\n",
    "for n in range(23, 70+1):\n",
    "    i = n*(2*n - 1)\n",
    "    hexagonal.append(i)\n",
    "\n",
    "for n in range(21, 63+1):\n",
    "    i = n*(5*n - 3)/2\n",
    "    heptagonal.append(i)\n",
    "\n",
    "for n in range(19, 58+1):\n",
    "    i = n*(3*n - 2)\n",
    "    octagonal.append(i)"
   ]
  },
  {
   "cell_type": "code",
   "execution_count": 9,
   "metadata": {},
   "outputs": [],
   "source": [
    "def is_cyclical(n, m):\n",
    "    if (n%100 == int(m/100)):\n",
    "        return True\n",
    "    else:\n",
    "        return False\n",
    "    \n",
    "def find_cyclicals(haystack, needle):\n",
    "    cyclicals = []\n",
    "    for item in haystack:\n",
    "        if is_cyclical(needle, item):\n",
    "            cyclicals.append(item)\n",
    "    return cyclicals\n",
    "def process_cyclicals(array, length):\n",
    "    for item in array:\n",
    "        for number in find_cyclicals(\n",
    "          shapes[perm_list[length-1]], item[length-2]):\n",
    "            item.append(number)\n",
    "    array = [x for x in array if len(x) == length]\n",
    "    if length == 6:\n",
    "        for possibility in array:\n",
    "            if len(possibility) == 6:\n",
    "                possibilities.append(possibility)\n",
    "    return array"
   ]
  },
  {
   "cell_type": "code",
   "execution_count": 5,
   "metadata": {},
   "outputs": [],
   "source": [
    "import itertools\n",
    "...\n",
    "permutations = list(itertools.permutations(range(0, 5+1)))"
   ]
  },
  {
   "cell_type": "code",
   "execution_count": 7,
   "metadata": {},
   "outputs": [],
   "source": [
    "shapes = [triangle, square, pentagonal, hexagonal, heptagonal, octagonal]"
   ]
  },
  {
   "cell_type": "code",
   "execution_count": 11,
   "metadata": {},
   "outputs": [],
   "source": [
    "possibilities = []\n",
    "for perm_list in permutations:\n",
    "    cyclical_groups = []\n",
    "    root = shapes[perm_list[0]]\n",
    "    for item in root:\n",
    "        for number in find_cyclicals(shapes[perm_list[1]], item):\n",
    "                cyclical_groups.append([item, number])\n",
    "    for n in range(3,6+1):\n",
    "        cyclical_groups = process_cyclicals(cyclical_groups, n)"
   ]
  },
  {
   "cell_type": "code",
   "execution_count": 12,
   "metadata": {},
   "outputs": [],
   "source": [
    "possibilities = [x for x in possibilities if is_cyclical(x[-1], x[0])]"
   ]
  },
  {
   "cell_type": "code",
   "execution_count": 14,
   "metadata": {
    "scrolled": true
   },
   "outputs": [
    {
     "name": "stdout",
     "output_type": "stream",
     "text": [
      "28684.0\n"
     ]
    }
   ],
   "source": [
    "print(sum(possibilities[0]))"
   ]
  },
  {
   "cell_type": "code",
   "execution_count": null,
   "metadata": {},
   "outputs": [],
   "source": []
  }
 ],
 "metadata": {
  "kernelspec": {
   "display_name": "Python 3",
   "language": "python",
   "name": "python3"
  },
  "language_info": {
   "codemirror_mode": {
    "name": "ipython",
    "version": 3
   },
   "file_extension": ".py",
   "mimetype": "text/x-python",
   "name": "python",
   "nbconvert_exporter": "python",
   "pygments_lexer": "ipython3",
   "version": "3.7.4"
  }
 },
 "nbformat": 4,
 "nbformat_minor": 2
}
